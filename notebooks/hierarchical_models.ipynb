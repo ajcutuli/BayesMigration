{
 "cells": [
  {
   "cell_type": "code",
   "execution_count": 1,
   "metadata": {},
   "outputs": [],
   "source": [
    "%run data_setup"
   ]
  },
  {
   "cell_type": "code",
   "execution_count": 2,
   "metadata": {},
   "outputs": [],
   "source": [
    "import numpyro\n",
    "from numpyro.infer import SVI, Trace_ELBO, MCMC, NUTS, Predictive\n",
    "import numpyro.distributions as dist\n",
    "from sklearn.preprocessing import LabelEncoder\n",
    "from numpyro.infer.reparam import NeuTraReparam\n",
    "from numpyro.infer.autoguide import AutoDiagonalNormal, AutoIAFNormal\n",
    "from numpyro.handlers import reparam\n",
    "from numpyro.optim import Adam\n",
    "import jax.numpy as jnp\n",
    "from jax import random\n",
    "import statsmodels.api as sm\n",
    "from numpyro.infer.reparam import LocScaleReparam\n",
    "from numpyro.diagnostics import hpdi\n",
    "import matplotlib.pyplot as plt\n",
    "\n",
    "numpyro.enable_x64()\n",
    "prng_seed = random.PRNGKey(0)\n",
    "assert numpyro.__version__.startswith(\"0.13.2\")"
   ]
  },
  {
   "cell_type": "markdown",
   "metadata": {},
   "source": [
    "# Hierarchical Models"
   ]
  },
  {
   "cell_type": "code",
   "execution_count": 3,
   "metadata": {},
   "outputs": [],
   "source": [
    "# global control variables\n",
    "learning_rate = 1e-2\n",
    "vi_iters = 10000\n",
    "\n",
    "num_warmup = 250\n",
    "num_samples = 100\n",
    "num_chains = 1\n",
    "thinning = 1\n",
    "target_accept_prob = 0.99\n",
    "max_tree_depth = 12"
   ]
  },
  {
   "cell_type": "code",
   "execution_count": 4,
   "metadata": {},
   "outputs": [],
   "source": [
    "def hg_intercept_partial(pool_code, logX_ijt, hyperparameters, logM_ijt=None):\n",
    "    σ_α = numpyro.sample(\"σ_α\", dist.HalfNormal(10.0))\n",
    "\n",
    "    μ_α = numpyro.sample(\"μ_α\", dist.Normal(hyperparameters['Β_param'][0], np.sqrt(np.diag(hyperparameters['cov_Β'])[0])))\n",
    "    β_1 = numpyro.sample(\"β_1\", dist.Normal(hyperparameters['Β_param'][1], np.sqrt(np.diag(hyperparameters['cov_Β'])[1])))\n",
    "    β_2 = numpyro.sample(\"β_2\", dist.Normal(hyperparameters['Β_param'][2], np.sqrt(np.diag(hyperparameters['cov_Β'])[2])))\n",
    "    β_3 = numpyro.sample(\"β_3\", dist.Normal(hyperparameters['Β_param'][3], np.sqrt(np.diag(hyperparameters['cov_Β'])[3])))\n",
    "    μ_σ = numpyro.sample(\"μ_σ\", dist.HalfNormal(np.sqrt(np.pi/2) * hyperparameters['σ_param']))\n",
    "\n",
    "    n_pairs = len(np.unique(pool_code))\n",
    "    with numpyro.plate(\"levels\", n_pairs):\n",
    "        α = numpyro.sample(\"α\", dist.Normal(μ_α, σ_α))\n",
    "        σ = numpyro.sample(\"σ\", dist.HalfNormal(np.sqrt(np.pi/2) * μ_σ))\n",
    "\n",
    "    μ_ijt = α[pool_code] + β_1 * logX_ijt[:,0] + β_2 * logX_ijt[:,1] + β_3 * logX_ijt[:,2]\n",
    "    σ_ij = σ[pool_code]\n",
    "\n",
    "    with numpyro.plate(\"data\", len(pool_code)):\n",
    "        numpyro.sample(\"logM_ijt\", dist.TruncatedNormal(μ_ijt, σ_ij, low=0), obs=logM_ijt)"
   ]
  },
  {
   "cell_type": "code",
   "execution_count": 5,
   "metadata": {},
   "outputs": [],
   "source": [
    "def hg_fully_partial(pool_code, logX_ijt, hyperparameters, logM_ijt=None):\n",
    "    σ_α = numpyro.sample(\"σ_α\", dist.HalfNormal(10))\n",
    "    σ_β_1 = numpyro.sample(\"σ_β_1\", dist.HalfNormal(10))\n",
    "    σ_β_2 = numpyro.sample(\"σ_β_2\", dist.HalfNormal(10))\n",
    "\n",
    "    μ_α = numpyro.sample(\"μ_α\", dist.Normal(hyperparameters['Β_param'][0], np.sqrt(np.diag(hyperparameters['cov_Β'])[0])))\n",
    "    μ_β_1 = numpyro.sample(\"μ_β_1\", dist.Normal(hyperparameters['Β_param'][1], np.sqrt(np.diag(hyperparameters['cov_Β'])[1])))\n",
    "    μ_β_2 = numpyro.sample(\"μ_β_2\", dist.Normal(hyperparameters['Β_param'][2], np.sqrt(np.diag(hyperparameters['cov_Β'])[2])))\n",
    "    β_3 = numpyro.sample(\"β_3\", dist.Normal(hyperparameters['Β_param'][3], np.sqrt(np.diag(hyperparameters['cov_Β'])[3])))\n",
    "    μ_σ = numpyro.sample(\"μ_σ\", dist.HalfNormal(np.sqrt(np.pi/2) * hyperparameters['σ_param']))\n",
    "\n",
    "    n_pairs = len(np.unique(pool_code))\n",
    "    with numpyro.plate(\"levels\", n_pairs):\n",
    "        α = numpyro.sample(\"α\", dist.Normal(μ_α, σ_α))\n",
    "        β_1 = numpyro.sample(\"β_1\", dist.Normal(μ_β_1, σ_β_1))\n",
    "        β_2 = numpyro.sample(\"β_2\", dist.Normal(μ_β_2, σ_β_2))\n",
    "        σ = numpyro.sample(\"σ\", dist.HalfNormal(np.sqrt(np.pi/2) * μ_σ))\n",
    "\n",
    "    μ_ijt = α[pool_code] + β_1[pool_code] * logX_ijt[:,0] + β_2[pool_code] * logX_ijt[:,1] + β_3 * logX_ijt[:,2]\n",
    "    σ_ij = σ[pool_code]\n",
    "    \n",
    "    with numpyro.plate(\"data\", len(pool_code)):\n",
    "        numpyro.sample(\"logM_ijt\", dist.TruncatedNormal(μ_ijt, σ_ij, low=0), obs=logM_ijt)"
   ]
  },
  {
   "cell_type": "code",
   "execution_count": 6,
   "metadata": {},
   "outputs": [],
   "source": [
    "def hr_intercept_partial(pool_code, logX_ijt, hyperparameters, logM_ijt=None):\n",
    "    σ_α = numpyro.sample(\"σ_α\", dist.HalfNormal(10))\n",
    "\n",
    "    μ_α = numpyro.sample(\"μ_α\", dist.Normal(hyperparameters['Β_param'][0], np.sqrt(np.diag(hyperparameters['cov_Β'])[0])))\n",
    "    β_1 = numpyro.sample(\"β_1\", dist.Normal(hyperparameters['Β_param'][1], np.sqrt(np.diag(hyperparameters['cov_Β'])[1])))\n",
    "    β_2 = numpyro.sample(\"β_2\", dist.Normal(hyperparameters['Β_param'][2], np.sqrt(np.diag(hyperparameters['cov_Β'])[2])))\n",
    "    β_3 = numpyro.sample(\"β_3\", dist.Normal(hyperparameters['Β_param'][3], np.sqrt(np.diag(hyperparameters['cov_Β'])[3])))\n",
    "    β_4 = numpyro.sample(\"β_4\", dist.Normal(hyperparameters['Β_param'][4], np.sqrt(np.diag(hyperparameters['cov_Β'])[4])))\n",
    "    μ_σ = numpyro.sample(\"μ_σ\", dist.HalfNormal(np.sqrt(np.pi/2) * hyperparameters['σ_param']))\n",
    "\n",
    "    n_pairs = len(np.unique(pool_code))\n",
    "    with numpyro.plate(\"levels\", n_pairs):\n",
    "        α = numpyro.sample(\"α\", dist.Normal(μ_α, σ_α))\n",
    "        σ = numpyro.sample(\"σ\", dist.HalfNormal(np.sqrt(np.pi/2) * μ_σ))\n",
    "\n",
    "    μ_ijt = α[pool_code] + β_1 * logX_ijt[:,0] + β_2 * logX_ijt[:,1] + β_3 * logX_ijt[:,2] + β_4 * logX_ijt[:,3]\n",
    "    σ_ij = σ[pool_code]\n",
    "\n",
    "    with numpyro.plate(\"data\", len(pool_code)):\n",
    "        numpyro.sample(\"logM_ijt\", dist.TruncatedNormal(μ_ijt, σ_ij, low=0), obs=logM_ijt)"
   ]
  },
  {
   "cell_type": "code",
   "execution_count": 7,
   "metadata": {},
   "outputs": [],
   "source": [
    "def hr_fully_partial(pool_code, logX_ijt, hyperparameters, logM_ijt=None):\n",
    "    σ_α = numpyro.sample(\"σ_α\", dist.HalfNormal(10))\n",
    "    σ_β_1 = numpyro.sample(\"σ_β_1\", dist.HalfNormal(10))\n",
    "    σ_β_2 = numpyro.sample(\"σ_β_2\", dist.HalfNormal(10))\n",
    "    σ_β_3 = numpyro.sample(\"σ_β_3\", dist.HalfNormal(10))\n",
    "    σ_β_4 = numpyro.sample(\"σ_β_4\", dist.HalfNormal(10))\n",
    "\n",
    "    μ_α = numpyro.sample(\"μ_α\", dist.Normal(hyperparameters['Β_param'][0], np.sqrt(np.diag(hyperparameters['cov_Β'])[0])))\n",
    "    μ_β_1 = numpyro.sample(\"μ_β_1\", dist.Normal(hyperparameters['Β_param'][1], np.sqrt(np.diag(hyperparameters['cov_Β'])[1])))\n",
    "    μ_β_2 = numpyro.sample(\"μ_β_2\", dist.Normal(hyperparameters['Β_param'][2], np.sqrt(np.diag(hyperparameters['cov_Β'])[2])))\n",
    "    μ_β_3 = numpyro.sample(\"μ_β_3\", dist.Normal(hyperparameters['Β_param'][3], np.sqrt(np.diag(hyperparameters['cov_Β'])[3])))\n",
    "    μ_β_4 = numpyro.sample(\"μ_β_4\", dist.Normal(hyperparameters['Β_param'][4], np.sqrt(np.diag(hyperparameters['cov_Β'])[4])))\n",
    "    μ_σ = numpyro.sample(\"μ_σ\", dist.HalfNormal(np.sqrt(np.pi/2) * hyperparameters['σ_param']))\n",
    "\n",
    "    n_pairs = len(np.unique(pool_code))\n",
    "    with numpyro.plate(\"levels\", n_pairs):\n",
    "        α = numpyro.sample(\"α\", dist.Normal(μ_α, σ_α))\n",
    "        β_1 = numpyro.sample(\"β_1\", dist.Normal(μ_β_1, σ_β_1))\n",
    "        β_2 = numpyro.sample(\"β_2\", dist.Normal(μ_β_2, σ_β_2))\n",
    "        β_3 = numpyro.sample(\"β_3\", dist.Normal(μ_β_3, σ_β_3))\n",
    "        β_4 = numpyro.sample(\"β_4\", dist.Normal(μ_β_4, σ_β_4))\n",
    "        σ = numpyro.sample(\"σ\", dist.HalfNormal(np.sqrt(np.pi/2) * μ_σ))\n",
    "\n",
    "    μ_ijt = α[pool_code] + β_1[pool_code] * logX_ijt[:,0] + β_2[pool_code] * logX_ijt[:,1] + β_3[pool_code] * logX_ijt[:,2] + β_4[pool_code] * logX_ijt[:,3]\n",
    "    σ_ij = σ[pool_code]\n",
    "    \n",
    "    with numpyro.plate(\"data\", len(pool_code)):\n",
    "        numpyro.sample(\"logM_ijt\", dist.TruncatedNormal(μ_ijt, σ_ij, low=0), obs=logM_ijt)"
   ]
  },
  {
   "cell_type": "code",
   "execution_count": 8,
   "metadata": {},
   "outputs": [],
   "source": [
    "def hg_experiment(origin_code, destination_code, logX_ijt, hyperparameters, logM_ijt=None):\n",
    "    σ_α = numpyro.sample(\"σ_α\", dist.HalfNormal(10))\n",
    "\n",
    "    μ_α = numpyro.sample(\"μ_α\", dist.Normal(hyperparameters['Β_param'][0], np.sqrt(np.diag(hyperparameters['cov_Β'])[0])))\n",
    "    β_1 = numpyro.sample(\"β_1\", dist.Normal(hyperparameters['Β_param'][1], np.sqrt(np.diag(hyperparameters['cov_Β'])[1])))\n",
    "    β_2 = numpyro.sample(\"β_2\", dist.Normal(hyperparameters['Β_param'][2], np.sqrt(np.diag(hyperparameters['cov_Β'])[2])))\n",
    "    β_3 = numpyro.sample(\"β_3\", dist.Normal(hyperparameters['Β_param'][3], np.sqrt(np.diag(hyperparameters['cov_Β'])[3])))\n",
    "    μ_σ = numpyro.sample(\"μ_σ\", dist.HalfNormal(np.sqrt(np.pi/2) * hyperparameters['σ_param']))\n",
    "\n",
    "    n_origins = len(np.unique(origin_code))\n",
    "    with numpyro.plate(\"origins\", n_origins):\n",
    "        α_i = numpyro.sample(\"α_i\", dist.Normal(μ_α, σ_α))\n",
    "        σ_i = numpyro.sample(\"σ_i\", dist.HalfNormal(np.sqrt(np.pi/2) * μ_σ))\n",
    "\n",
    "    n_destinations = len(np.unique(destination_code))\n",
    "    with numpyro.plate(\"destinations\", n_destinations):\n",
    "        α_j = numpyro.sample(\"α_j\", dist.Normal(μ_α, σ_α))\n",
    "        σ_j = numpyro.sample(\"σ_j\", dist.HalfNormal(np.sqrt(np.pi/2) * μ_σ))\n",
    "\n",
    "    γ_1 = numpyro.sample(\"γ_1\", dist.Normal(0, 10))\n",
    "    γ_2 = numpyro.sample(\"γ_2\", dist.Normal(0, 10))\n",
    "    γ_3 = numpyro.sample(\"γ_3\", dist.Normal(0, 10))\n",
    "\n",
    "    μ_ijt = γ_1 * α_i[origin_code] + γ_2 * α_j[destination_code] + γ_3 * α_i[origin_code] * α_j[destination_code] + \\\n",
    "        β_1 * logX_ijt[:,0] + β_2 * logX_ijt[:,1] + β_3 * logX_ijt[:,2]\n",
    "\n",
    "    σ_ij = jnp.sqrt(σ_i[origin_code]**2 + σ_j[destination_code]**2)\n",
    "\n",
    "    with numpyro.plate(\"data\", len(origin_code)):\n",
    "        numpyro.sample(\"logM_ijt\", dist.TruncatedNormal(μ_ijt, σ_ij, low=0), obs=logM_ijt)"
   ]
  },
  {
   "cell_type": "code",
   "execution_count": 9,
   "metadata": {},
   "outputs": [],
   "source": [
    "def run_experiment(model, prng_seed=prng_seed, print_progress=False, path_count=5, vi=True):\n",
    "    \n",
    "    model_name = model\n",
    "    mae_model, r_squared_model, cpc_model, cpcd_model = np.empty(path_count), np.empty(path_count), np.empty(path_count), np.empty(path_count)\n",
    "    poten_model = np.empty((path_count,num_chains,num_warmup))\n",
    "    divergences_model = np.empty((path_count,num_chains,num_warmup))\n",
    "    posteriors_model = []\n",
    "    \n",
    "    for path in df.path_ind.unique()[:path_count]:\n",
    "        \n",
    "        df_train_filtered = df_train.query(\"path_ind == @path & M_ij != 0\")\n",
    "        if model_name in (hg_intercept_partial, hg_fully_partial):\n",
    "            X_train = df_train_filtered.set_index('State_pair')[['P_i','P_j','D_ij']]\n",
    "            pair_le = LabelEncoder().fit(X_train.index)\n",
    "            pair_code = pair_le.transform(X_train.index)\n",
    "        elif model_name in (hr_intercept_partial, hr_fully_partial):\n",
    "            X_train = df_train_filtered.set_index('State_pair')[['P_i','P_j','SP_ij']]\n",
    "            X_train['P_i + SP_ij'] = X_train.P_i + X_train.SP_ij\n",
    "            X_train['P_i + P_j + SP_ij'] = X_train.P_i + X_train.P_j + X_train.SP_ij\n",
    "            pair_le = LabelEncoder().fit(X_train.index)\n",
    "            pair_code = pair_le.transform(X_train.index)\n",
    "            X_train.drop('SP_ij', axis=1, inplace=True)\n",
    "        elif model_name == hg_experiment:\n",
    "            X_train = df_train_filtered.set_index(['State_i','State_j'])[['P_i','P_j','D_ij']]\n",
    "            origin_le = LabelEncoder().fit(X_train.index.get_level_values(0))\n",
    "            origin_code = origin_le.transform(X_train.index.get_level_values(0))\n",
    "            destination_le = LabelEncoder().fit(X_train.index.get_level_values(1))\n",
    "            destination_code = destination_le.transform(X_train.index.get_level_values(1))\n",
    "        \n",
    "        X_train = np.log(X_train.astype('float').values)\n",
    "        y_train = np.log(df_train_filtered.M_ij.astype('float').values)\n",
    "\n",
    "        Β_param = np.linalg.inv(X_train.T @ X_train) @ X_train.T @ y_train\n",
    "        α_param = y_train.mean() - Β_param @ X_train.mean(axis=0)\n",
    "        ε = y_train - α_param - Β_param @ X_train.T\n",
    "        σ_param = np.sqrt(ε @ ε / ( X_train.shape[0] - X_train.shape[1] - 1 ))\n",
    "        cov_Β = σ_param * np.linalg.inv(sm.add_constant(X_train).T @ sm.add_constant(X_train))\n",
    "        hyperparameters = {'Β_param': np.concatenate([[α_param],Β_param]),\n",
    "                        'σ_param': σ_param,\n",
    "                        'cov_Β': cov_Β}\n",
    "        \n",
    "        # if model in (hg_intercept_partial, hr_intercept_partial):\n",
    "        #     reparam_config = {\"α\": LocScaleReparam(0)}\n",
    "        # elif model == hg_fully_partial:\n",
    "        #     reparam_config = {\"α\": LocScaleReparam(0), \"β_1\": LocScaleReparam(0), \"β_2\": LocScaleReparam(0)}\n",
    "        # elif model == hr_fully_partial:\n",
    "        #     reparam_config = {\"α\": LocScaleReparam(0), \"β_1\": LocScaleReparam(0), \"β_2\": LocScaleReparam(0), \"β_3\": LocScaleReparam(0), \"β_4\": LocScaleReparam(0)}\n",
    "        # elif model == hg_experiment:\n",
    "        #     reparam_config = {\"α_i\": LocScaleReparam(0), \"α_j\": LocScaleReparam(0)}\n",
    "\n",
    "        # model = reparam(model, config=reparam_config)\n",
    "        \n",
    "        if vi:\n",
    "            guide = AutoDiagonalNormal(model_name, init_loc_fn=numpyro.infer.init_to_feasible)\n",
    "            svi = SVI(model_name, guide, Adam(learning_rate), Trace_ELBO())\n",
    "            if model_name != hg_experiment:\n",
    "                svi_result = svi.run(prng_seed, vi_iters, pair_code, X_train, hyperparameters, y_train, progress_bar=print_progress)\n",
    "            else:\n",
    "                svi_result = svi.run(prng_seed, vi_iters, origin_code, destination_code, X_train, hyperparameters, y_train, progress_bar=print_progress)\n",
    "            neutra = NeuTraReparam(guide, svi_result.params)\n",
    "            model = neutra.reparam(model_name)\n",
    "        else:\n",
    "            model = model_name\n",
    "\n",
    "        nuts_kernel = NUTS(model, init_strategy=numpyro.infer.init_to_feasible, target_accept_prob=target_accept_prob, max_tree_depth=max_tree_depth)\n",
    "\n",
    "        mcmc = MCMC(nuts_kernel, num_warmup=num_warmup, num_samples=num_samples, progress_bar=print_progress)\n",
    "        if model != hg_experiment:\n",
    "            mcmc.warmup(prng_seed, pair_code, X_train, hyperparameters, y_train, collect_warmup=True, extra_fields=[\"potential_energy\"])\n",
    "            poten_model[path] = mcmc.get_extra_fields()[\"potential_energy\"]\n",
    "            divergences_model[path] = mcmc.get_extra_fields()[\"diverging\"]\n",
    "            mcmc.run(prng_seed, pair_code, X_train, hyperparameters, y_train)\n",
    "        else:\n",
    "            mcmc.warmup(prng_seed, origin_code, destination_code, X_train, hyperparameters, y_train, collect_warmup=True, extra_fields=[\"potential_energy\"])\n",
    "            poten_model[path] = mcmc.get_extra_fields()[\"potential_energy\"]\n",
    "            divergences_model[path] = mcmc.get_extra_fields()[\"diverging\"]\n",
    "            mcmc.run(prng_seed, origin_code, destination_code, X_train, hyperparameters, y_train)\n",
    "        \n",
    "        if vi:\n",
    "            posteriors_model += [neutra.transform_sample(mcmc.get_samples()['auto_shared_latent'])]\n",
    "        else:\n",
    "            posteriors_model += [mcmc.get_samples()]\n",
    "        df_test_filtered = df_test.query(\"path_ind == @path & M_ij != 0 & State_pair in {}\".format(list(df_train_filtered.State_pair.unique())))\n",
    "\n",
    "        if model_name in (hg_intercept_partial, hg_fully_partial):\n",
    "            X_test = df_test_filtered.set_index('State_pair')[['P_i','P_j','D_ij']]\n",
    "            pair_code = pair_le.transform(X_test.index)\n",
    "        elif model_name in (hr_intercept_partial, hr_fully_partial):\n",
    "            X_test = df_test_filtered.set_index('State_pair')[['P_i','P_j','SP_ij']]\n",
    "            X_test['P_i + SP_ij'] = X_test.P_i + X_test.SP_ij\n",
    "            X_test['P_i + P_j + SP_ij'] = X_test.P_i + X_test.P_j + X_test.SP_ij\n",
    "            pair_code = pair_le.transform(X_test.index)\n",
    "            X_test.drop('SP_ij', axis=1, inplace=True)\n",
    "        elif model_name == hg_experiment:\n",
    "            X_test = df_test_filtered.set_index(['State_i','State_j'])[['P_i','P_j','D_ij']]\n",
    "            origin_code = origin_le.transform(X_test.index.get_level_values(0))\n",
    "            destination_code = destination_le.transform(X_test.index.get_level_values(1))\n",
    "\n",
    "        X_test = np.log(X_test.astype('float').values)\n",
    "        y_test = df_test_filtered.M_ij\n",
    "\n",
    "        predictive = Predictive(model, posteriors_model[-1], return_sites=[\"logM_ijt\"])\n",
    "\n",
    "        if model_name != hg_experiment:\n",
    "            samples_predictive = predictive(prng_seed, pair_code, X_test, hyperparameters)\n",
    "        else:\n",
    "            samples_predictive = predictive(prng_seed, origin_code, destination_code, X_test, hyperparameters)\n",
    "\n",
    "        pred = np.exp( samples_predictive[\"logM_ijt\"].mean(axis=0) )\n",
    "\n",
    "        mae_model[path] = mae(y_test, pred )\n",
    "        r_squared_model[path] = r_squared(y_test, pred)\n",
    "        cpc_model[path] = cpc(y_test, pred)\n",
    "        cpcd_model[path] = cpcd(y_test, pred, df_test_filtered.D_ij)\n",
    "\n",
    "        print(\"Path {}/{} delivers MAE {:0.3f}\".format(path+1,path_count, mae_model[path]))\n",
    "    \n",
    "    model_results = {'mae_model': mae_model,\n",
    "                     'r_squared_model': r_squared_model,\n",
    "                     'cpc_model': cpc_model,\n",
    "                     'cpcd_model': cpcd_model,\n",
    "                     'poten_model': poten_model,\n",
    "                     'posteriors_model': posteriors_model,\n",
    "                     'divergences': divergences_model\n",
    "    }\n",
    "    \n",
    "    return model_results"
   ]
  },
  {
   "cell_type": "code",
   "execution_count": 10,
   "metadata": {},
   "outputs": [],
   "source": [
    "def print_results(model_results, path_count=5):\n",
    "    print(\"----------------------------------------------\")\n",
    "    for metric in list(model_results.keys())[:4]:\n",
    "        print(\"{}: {:0.3f} +/- {:0.3f}\".format(metric,\n",
    "                                    model_results[metric].mean(),\n",
    "                                    norm.ppf(.975) * model_results[metric].std(ddof=1) / np.sqrt(path_count)\n",
    "            )\n",
    "        )\n",
    "    print(\"----------------------------------------------\")\n",
    "    print(\"Percent of warm-up transitions that are divergent: {:0.1f}%\".format(100*np.array(model_results['divergences']).mean()))"
   ]
  },
  {
   "cell_type": "code",
   "execution_count": 11,
   "metadata": {},
   "outputs": [],
   "source": [
    "def save_results(model_results):\n",
    "    with open('../results/{}.pkl'.format(f'{model_results=}'.split('=')[0]), 'wb') as f:\n",
    "        pickle.dump(model_results, f, protocol=pickle.HIGHEST_PROTOCOL)"
   ]
  },
  {
   "cell_type": "markdown",
   "metadata": {},
   "source": [
    "## Gravity"
   ]
  },
  {
   "cell_type": "markdown",
   "metadata": {},
   "source": [
    "### Varying intercept"
   ]
  },
  {
   "cell_type": "code",
   "execution_count": 12,
   "metadata": {},
   "outputs": [
    {
     "name": "stdout",
     "output_type": "stream",
     "text": [
      "Path 1/1 delivers MAE 1078.181\n",
      "----------------------------------------------\n",
      "mae_model: 1078.181 +/- nan\n",
      "r_squared_model: 0.826 +/- nan\n",
      "cpc_model: 0.827 +/- nan\n",
      "cpcd_model: 0.967 +/- nan\n",
      "----------------------------------------------\n",
      "Percent of warm-up transitions that are divergent: 1.6%\n"
     ]
    }
   ],
   "source": [
    "hg_intercept_partial_results = run_experiment(hg_intercept_partial, print_progress=False, path_count=1, vi=True)\n",
    "\n",
    "print_results(hg_intercept_partial_results, path_count=1)\n",
    "save_results(hg_intercept_partial_results)"
   ]
  },
  {
   "cell_type": "code",
   "execution_count": 97,
   "metadata": {},
   "outputs": [],
   "source": [
    "with open('../results/hg_fully_partial_results.pkl', 'rb') as f:\n",
    "    hg_fully_partial_results = pickle.load(f)"
   ]
  },
  {
   "cell_type": "code",
   "execution_count": 15,
   "metadata": {},
   "outputs": [
    {
     "name": "stderr",
     "output_type": "stream",
     "text": [
      "sample: 100%|██████████| 1250/1250 [10:54<00:00,  1.91it/s, 511 steps of size 8.96e-03. acc. prob=0.99]\n"
     ]
    }
   ],
   "source": [
    "df_train_filtered = df_train.query(\"path_ind == 0 & M_ij_mean != 0\")\n",
    "X_train = df_train_filtered.set_index('State_pair')[['P_i','P_j','D_ij']]\n",
    "pair_le = LabelEncoder().fit(X_train.index)\n",
    "pair_code = pair_le.transform(X_train.index)\n",
    "\n",
    "X_train = np.log(X_train.astype('float').values)\n",
    "y_train = np.log(df_train_filtered.M_ij_mean.astype('float').values)\n",
    "\n",
    "Β_param = np.linalg.inv(X_train.T @ X_train) @ X_train.T @ y_train\n",
    "α_param = y_train.mean() - Β_param @ X_train.mean(axis=0)\n",
    "ε = y_train - α_param - Β_param @ X_train.T\n",
    "σ_param = np.sqrt(ε @ ε / ( X_train.shape[0] - X_train.shape[1] - 1 ))\n",
    "cov_Β = σ_param * np.linalg.inv(sm.add_constant(X_train).T @ sm.add_constant(X_train))\n",
    "hyperparameters = {'Β_param': np.concatenate([[α_param],Β_param]),\n",
    "                'σ_param': σ_param,\n",
    "                'cov_Β': cov_Β}\n",
    "\n",
    "guide = AutoDiagonalNormal(hg_intercept_partial, init_loc_fn=numpyro.infer.init_to_feasible)\n",
    "svi = SVI(hg_intercept_partial, guide, Adam(learning_rate), Trace_ELBO())\n",
    "svi_result = svi.run(prng_seed, vi_iters, pair_code, X_train, hyperparameters, y_train, progress_bar=False)\n",
    "neutra = NeuTraReparam(guide, svi_result.params)\n",
    "model = neutra.reparam(hg_intercept_partial)\n",
    "\n",
    "nuts_kernel = NUTS(model, init_strategy=numpyro.infer.init_to_feasible, target_accept_prob=target_accept_prob, max_tree_depth=max_tree_depth)\n",
    "\n",
    "mcmc = MCMC(nuts_kernel, num_warmup=num_warmup, num_samples=num_samples, progress_bar=True)\n",
    "mcmc.run(prng_seed, pair_code, X_train, hyperparameters, y_train)\n",
    "\n",
    "posteriors_model = neutra.transform_sample(mcmc.get_samples()['auto_shared_latent'])\n",
    "\n",
    "df_test_filtered = df_test.query(\"path_ind == 0 & M_ij != 0 & State_pair in {}\".format(list(df_train_filtered.State_pair.unique())))\n",
    "\n",
    "X_test = df_test_filtered.set_index('State_pair')[['P_i','P_j','D_ij']]\n",
    "pair_code = pair_le.transform(X_test.index)\n",
    "\n",
    "X_test = np.log(X_test.astype('float').values)\n",
    "# y_test = df_test_filtered.M_ij\n"
   ]
  },
  {
   "cell_type": "code",
   "execution_count": 186,
   "metadata": {},
   "outputs": [
    {
     "data": {
      "text/plain": [
       "State_pair\n",
       "North Dakota - Delaware             0.000000\n",
       "South Dakota - Delaware             0.000000\n",
       "South Dakota - New Hampshire        0.000000\n",
       "Montana - Delaware                  0.000000\n",
       "Mississippi - Rhode Island          0.000000\n",
       "                                    ...     \n",
       "Texas - California              54455.666667\n",
       "California - Texas              64246.666667\n",
       "California - Arizona            71140.666667\n",
       "New York - Florida              73687.333333\n",
       "Louisiana - Texas               77081.666667\n",
       "Name: M_ij_mean, Length: 2540, dtype: float64"
      ]
     },
     "execution_count": 186,
     "metadata": {},
     "output_type": "execute_result"
    }
   ],
   "source": [
    "df_test_filtered.groupby('State_pair').M_ij_mean.mean().sort_values()"
   ]
  },
  {
   "cell_type": "code",
   "execution_count": 107,
   "metadata": {},
   "outputs": [
    {
     "data": {
      "image/png": "[encoded data removed]",
      "text/plain": [
       "<Figure size 3000x1000 with 1 Axes>"
      ]
     },
     "metadata": {
      "needs_background": "light"
     },
     "output_type": "display_data"
    }
   ],
   "source": [
    "# states_sampled = ['California - Florida', \n",
    "#                     'California - Texas', \n",
    "#                     # 'New York - Arizona', \n",
    "#                     # 'New York - Florida', \n",
    "#                     'New York - New Jersey',\n",
    "#                     ''\n",
    "#                     # 'Louisiana - Texas',\n",
    "#                     # 'Florida - Texas',\n",
    "#                     ]\n",
    "\n",
    "# num_pairs_sampled = len(states_sampled)\n",
    "num_pairs_sampled = 5\n",
    "\n",
    "pair_idx = np.random.choice(pair_code, size=num_pairs_sampled, replace=False)\n",
    "# pair_idx = pair_le.transform(states_sampled)\n",
    "\n",
    "samples_predictive = np.exp( Predictive(model, posteriors_model, return_sites=[\"logM_ijt\"])\n",
    "                            (prng_seed, pair_code, X_test, hyperparameters)[\"logM_ijt\"] )\n",
    "\n",
    "samples_predictive = np.array([samples_predictive[:,pair_code == pair_idx[i]].mean(axis=1) for i in range(num_pairs_sampled)]).T\n",
    "# truth = df_test_filtered.groupby('State_pair').M_ij_mean.mean().loc[states_sampled].values\n",
    "truth = np.array([df_test_filtered.M_ij.values[pair_code == pair_idx[i]].mean() for i in range(n_subsamples)])\n",
    "\n",
    "fig, ax = plt.subplots(nrows=1, ncols=1, figsize=(6, num_pairs_sampled//2), dpi=500)\n",
    "pred_mean = jnp.mean(samples_predictive, axis=0)\n",
    "pred_hpdi = hpdi(samples_predictive, 0.9)\n",
    "residuals = truth - samples_predictive\n",
    "residuals_mean = jnp.mean(residuals, axis=0)\n",
    "residuals_hpdi = hpdi(residuals, 0.9)\n",
    "idx = jnp.argsort(residuals_mean)\n",
    "\n",
    "y = jnp.arange(num_pairs_sampled)\n",
    "\n",
    "# ax[0].plot(jnp.zeros(50), y, \"--\")\n",
    "ax.errorbar(\n",
    "    pred_mean[idx],\n",
    "    y,\n",
    "    xerr=pred_hpdi[1, idx] - pred_mean[idx],\n",
    "    marker=\"o\",\n",
    "    ms=5,\n",
    "    mew=4,\n",
    "    ls=\"none\",\n",
    "    alpha=0.8,\n",
    "    color=\"red\",\n",
    "    label=\"HG$_1$\"\n",
    ")\n",
    "ax.plot(truth[idx], y, marker=\"o\", ls=\"none\", color=\"gray\", label=\"Truth\")\n",
    "\n",
    "gravity_ols = sm.OLS(y_train, sm.add_constant(X_train)).fit()\n",
    "grav_pred = np.array([np.exp( gravity_ols.predict( sm.add_constant(X_test) ) )[pair_code == pair_idx[i]].mean() for i in range(num_pairs_sampled)])\n",
    "ax.plot(grav_pred[idx], y, marker=\"o\", ls=\"none\", color=\"blue\", label=\"Gravity\")\n",
    "ax.set(\n",
    "    xlabel=\"Migrant Count\",\n",
    "    ylabel=\"State Pair\",\n",
    "    title=\"Posterior Predictive with 90% CI\",\n",
    ")\n",
    "ax.set_yticks(y)\n",
    "state_pair_names = np.array([df_test_filtered.State_pair.values[pair_code == pair_idx[i]][0] for i in range(num_pairs_sampled)])\n",
    "# thanks to rogerallen/us_state_abbrev.py on GitHub\n",
    "us_state_to_abbrev = {\n",
    "    \"Alabama\": \"AL\",\n",
    "    \"Alaska\": \"AK\",\n",
    "    \"Arizona\": \"AZ\",\n",
    "    \"Arkansas\": \"AR\",\n",
    "    \"California\": \"CA\",\n",
    "    \"Colorado\": \"CO\",\n",
    "    \"Connecticut\": \"CT\",\n",
    "    \"Delaware\": \"DE\",\n",
    "    \"Florida\": \"FL\",\n",
    "    \"Georgia\": \"GA\",\n",
    "    \"Hawaii\": \"HI\",\n",
    "    \"Idaho\": \"ID\",\n",
    "    \"Illinois\": \"IL\",\n",
    "    \"Indiana\": \"IN\",\n",
    "    \"Iowa\": \"IA\",\n",
    "    \"Kansas\": \"KS\",\n",
    "    \"Kentucky\": \"KY\",\n",
    "    \"Louisiana\": \"LA\",\n",
    "    \"Maine\": \"ME\",\n",
    "    \"Maryland\": \"MD\",\n",
    "    \"Massachusetts\": \"MA\",\n",
    "    \"Michigan\": \"MI\",\n",
    "    \"Minnesota\": \"MN\",\n",
    "    \"Mississippi\": \"MS\",\n",
    "    \"Missouri\": \"MO\",\n",
    "    \"Montana\": \"MT\",\n",
    "    \"Nebraska\": \"NE\",\n",
    "    \"Nevada\": \"NV\",\n",
    "    \"New Hampshire\": \"NH\",\n",
    "    \"New Jersey\": \"NJ\",\n",
    "    \"New Mexico\": \"NM\",\n",
    "    \"New York\": \"NY\",\n",
    "    \"North Carolina\": \"NC\",\n",
    "    \"North Dakota\": \"ND\",\n",
    "    \"Ohio\": \"OH\",\n",
    "    \"Oklahoma\": \"OK\",\n",
    "    \"Oregon\": \"OR\",\n",
    "    \"Pennsylvania\": \"PA\",\n",
    "    \"Rhode Island\": \"RI\",\n",
    "    \"South Carolina\": \"SC\",\n",
    "    \"South Dakota\": \"SD\",\n",
    "    \"Tennessee\": \"TN\",\n",
    "    \"Texas\": \"TX\",\n",
    "    \"Utah\": \"UT\",\n",
    "    \"Vermont\": \"VT\",\n",
    "    \"Virginia\": \"VA\",\n",
    "    \"Washington\": \"WA\",\n",
    "    \"West Virginia\": \"WV\",\n",
    "    \"Wisconsin\": \"WI\",\n",
    "    \"Wyoming\": \"WY\",\n",
    "    \"District of Columbia\": \"DC\"\n",
    "}\n",
    "for k in range(num_pairs_sampled):\n",
    "    tmp = state_pair_names[k].split(' - ')\n",
    "    tmp[0] = us_state_to_abbrev[tmp[0]]\n",
    "    tmp[1] = us_state_to_abbrev[tmp[1]]\n",
    "    state_pair_names[k] = tmp[0] + ' -> ' + tmp[1]\n",
    "\n",
    "ax.set_yticklabels(state_pair_names[idx], fontsize=10)\n",
    "ax.legend();\n",
    "\n",
    "# # Plot residuals\n",
    "# err = residuals_hpdi[1] - residuals_mean\n",
    "\n",
    "# ax[1].plot(jnp.zeros(num_pairs_sampled), y, \"--\")\n",
    "# ax[1].errorbar(\n",
    "#     residuals_mean[idx], y, xerr=err[idx], marker=\"o\", ms=5, mew=4, ls=\"none\", alpha=0.8\n",
    "# )\n",
    "\n",
    "# ax[1].set(xlabel=\"Residuals for HG$_1$\", title=\"Residuals with 90% CI\")\n",
    "# ax[1].set_yticks(y)\n",
    "# ax[1].set_yticklabels(state_pair_names[idx], fontsize=10);"
   ]
  },
  {
   "cell_type": "markdown",
   "metadata": {},
   "source": [
    "### Varying intercept & coefficients"
   ]
  },
  {
   "cell_type": "code",
   "execution_count": 13,
   "metadata": {},
   "outputs": [
    {
     "name": "stdout",
     "output_type": "stream",
     "text": [
      "Path 1/1 delivers MAE 1080.785\n",
      "----------------------------------------------\n",
      "mae_model: 1080.785 +/- nan\n",
      "r_squared_model: 0.826 +/- nan\n",
      "cpc_model: 0.826 +/- nan\n",
      "cpcd_model: 0.968 +/- nan\n",
      "----------------------------------------------\n",
      "Percent of warm-up transitions that are divergent: 1.6%\n"
     ]
    }
   ],
   "source": [
    "hg_fully_partial_results = run_experiment(hg_fully_partial, path_count=1, vi=True)\n",
    "\n",
    "print_results(hg_fully_partial_results, path_count=1)\n",
    "save_results(hg_fully_partial_results)"
   ]
  },
  {
   "cell_type": "markdown",
   "metadata": {},
   "source": [
    "## Radiation"
   ]
  },
  {
   "cell_type": "markdown",
   "metadata": {},
   "source": [
    "### Varying intercept"
   ]
  },
  {
   "cell_type": "code",
   "execution_count": 14,
   "metadata": {},
   "outputs": [
    {
     "name": "stdout",
     "output_type": "stream",
     "text": [
      "Path 1/1 delivers MAE 1079.370\n",
      "----------------------------------------------\n",
      "mae_model: 1079.370 +/- nan\n",
      "r_squared_model: 0.825 +/- nan\n",
      "cpc_model: 0.826 +/- nan\n",
      "cpcd_model: 0.963 +/- nan\n",
      "----------------------------------------------\n",
      "Percent of warm-up transitions that are divergent: 2.0%\n"
     ]
    }
   ],
   "source": [
    "hr_intercept_partial_results = run_experiment(hr_intercept_partial, path_count=1, vi=True)\n",
    "\n",
    "print_results(hr_intercept_partial_results, path_count=1)\n",
    "save_results(hr_intercept_partial_results)"
   ]
  },
  {
   "cell_type": "markdown",
   "metadata": {},
   "source": [
    "### Varying intercept & coefficients"
   ]
  },
  {
   "cell_type": "code",
   "execution_count": 15,
   "metadata": {},
   "outputs": [
    {
     "name": "stdout",
     "output_type": "stream",
     "text": [
      "Path 1/1 delivers MAE 1081.226\n",
      "----------------------------------------------\n",
      "mae_model: 1081.226 +/- nan\n",
      "r_squared_model: 0.825 +/- nan\n",
      "cpc_model: 0.826 +/- nan\n",
      "cpcd_model: 0.964 +/- nan\n",
      "----------------------------------------------\n",
      "Percent of warm-up transitions that are divergent: 1.6%\n"
     ]
    }
   ],
   "source": [
    "hr_fully_partial_results = run_experiment(hr_fully_partial, path_count=1, vi=True)\n",
    "\n",
    "print_results(hr_fully_partial_results, path_count=1)\n",
    "save_results(hr_fully_partial_results)"
   ]
  },
  {
   "cell_type": "markdown",
   "metadata": {},
   "source": [
    "## Experiment"
   ]
  },
  {
   "cell_type": "code",
   "execution_count": 16,
   "metadata": {},
   "outputs": [
    {
     "name": "stdout",
     "output_type": "stream",
     "text": [
      "Path 1/5 delivers MAE 1559.861\n",
      "Path 2/5 delivers MAE 1560.340\n"
     ]
    }
   ],
   "source": [
    "hg_experiment_results = run_experiment(hg_experiment, path_count=5)\n",
    "\n",
    "print_results(hg_experiment_results)\n",
    "save_results(hg_experiment_results)"
   ]
  },
  {
   "cell_type": "markdown",
   "metadata": {},
   "source": [
    "## Effective Number of Parameters"
   ]
  },
  {
   "cell_type": "code",
   "execution_count": 69,
   "metadata": {},
   "outputs": [],
   "source": [
    "with open('../results/hg_intercept_partial_results.pkl', 'rb') as f:\n",
    "    hg_intercept_partial_results = pickle.load(f)\n",
    "\n",
    "df_train_filtered = df_train.query(\"path_ind == 0 & M_ij_mean != 0\")\n",
    "X_train = df_train_filtered.set_index('State_pair')[['P_i','P_j','D_ij']]\n",
    "pair_le = LabelEncoder().fit(X_train.index)\n",
    "pair_code = pair_le.transform(X_train.index)\n",
    "\n",
    "X_train = np.log(X_train.astype('float').values)\n",
    "y_train = np.log(df_train_filtered.M_ij_mean.astype('float').values)\n",
    "\n",
    "Β_param = np.linalg.inv(X_train.T @ X_train) @ X_train.T @ y_train\n",
    "α_param = y_train.mean() - Β_param @ X_train.mean(axis=0)\n",
    "ε = y_train - α_param - Β_param @ X_train.T\n",
    "σ_param = np.sqrt(ε @ ε / ( X_train.shape[0] - X_train.shape[1] - 1 ))\n",
    "cov_Β = σ_param * np.linalg.inv(sm.add_constant(X_train).T @ sm.add_constant(X_train))\n",
    "hyperparameters = {'Β_param': np.concatenate([[α_param],Β_param]),\n",
    "                'σ_param': σ_param,\n",
    "                'cov_Β': cov_Β}\n",
    "\n",
    "guide = AutoDiagonalNormal(hg_intercept_partial, init_loc_fn=numpyro.infer.init_to_feasible)\n",
    "svi = SVI(hg_intercept_partial, guide, Adam(learning_rate), Trace_ELBO())\n",
    "svi_result = svi.run(prng_seed, vi_iters, pair_code, X_train, hyperparameters, y_train, progress_bar=False)\n",
    "neutra = NeuTraReparam(guide, svi_result.params)\n",
    "model = neutra.reparam(hg_intercept_partial)\n",
    "\n",
    "\n",
    "predictive = Predictive(model, hg_intercept_partial_results['posteriors_model'][0])\n",
    "posterior_predictive_samples = predictive(prng_seed, pool_code=pair_code, logX_ijt=X_train, hyperparameters=hyperparameters, logM_ijt=y_train)['logM_ijt']\n",
    "\n",
    "# ll = log_likelihood(model, hg_intercept_partial_results['posteriors_model'][0], pool_code=pair_code, logX_ijt=X_train, hyperparameters=hyperparameters, logM_ijt=y_train, batch_ndims=1)"
   ]
  },
  {
   "cell_type": "code",
   "execution_count": 79,
   "metadata": {},
   "outputs": [
    {
     "data": {
      "text/plain": [
       "Array([[5.56068163, 7.46737107, 6.45519856, ..., 5.5683445 , 3.49650756,\n",
       "        3.8501476 ],\n",
       "       [5.56068163, 7.46737107, 6.45519856, ..., 5.5683445 , 3.49650756,\n",
       "        3.8501476 ],\n",
       "       [5.56068163, 7.46737107, 6.45519856, ..., 5.5683445 , 3.49650756,\n",
       "        3.8501476 ],\n",
       "       ...,\n",
       "       [5.56068163, 7.46737107, 6.45519856, ..., 5.5683445 , 3.49650756,\n",
       "        3.8501476 ],\n",
       "       [5.56068163, 7.46737107, 6.45519856, ..., 5.5683445 , 3.49650756,\n",
       "        3.8501476 ],\n",
       "       [5.56068163, 7.46737107, 6.45519856, ..., 5.5683445 , 3.49650756,\n",
       "        3.8501476 ]], dtype=float64)"
      ]
     },
     "execution_count": 79,
     "metadata": {},
     "output_type": "execute_result"
    }
   ],
   "source": [
    "posterior_predictive_samples"
   ]
  },
  {
   "cell_type": "code",
   "execution_count": 97,
   "metadata": {},
   "outputs": [],
   "source": [
    "import jax.numpy as jnp\n",
    "from scipy.stats import norm  # or the relevant distribution\n",
    "\n",
    "# Assuming the observed data is in a variable named `observed_data`\n",
    "Dθ = []\n",
    "# Dθbar = []\n",
    "for i in range(posterior_predictive_samples.shape[1]):\n",
    "    # Compute the likelihood of the observed data given each set of predictive samples\n",
    "    likelihoods = norm.pdf(y_train[i], \n",
    "                           loc=posterior_predictive_samples[:,i], \n",
    "                           scale=hg_intercept_partial_results['posteriors_model'][0]['σ'][:,pair_code][:,i])\n",
    "    \n",
    "    # Compute the log of the average likelihood over all samples\n",
    "    # Dθ += [jnp.log(likelihoods)]\n",
    "    Dθ += [-2*jnp.log(likelihoods)]\n",
    "\n",
    "Dθ = np.array(Dθ)"
   ]
  },
  {
   "cell_type": "code",
   "execution_count": 100,
   "metadata": {},
   "outputs": [
    {
     "data": {
      "text/plain": [
       "0.010435084654063844"
      ]
     },
     "execution_count": 100,
     "metadata": {},
     "output_type": "execute_result"
    }
   ],
   "source": [
    "Dθ.var()"
   ]
  },
  {
   "cell_type": "code",
   "execution_count": 67,
   "metadata": {},
   "outputs": [
    {
     "data": {
      "text/plain": [
       "(1000, 2550)"
      ]
     },
     "execution_count": 67,
     "metadata": {},
     "output_type": "execute_result"
    }
   ],
   "source": [
    "hg_fully_partial_results['posteriors_model'][0]['σ'].shape"
   ]
  },
  {
   "cell_type": "code",
   "execution_count": 38,
   "metadata": {},
   "outputs": [
    {
     "data": {
      "text/plain": [
       "Array(5.17409128, dtype=float64)"
      ]
     },
     "execution_count": 38,
     "metadata": {},
     "output_type": "execute_result"
    }
   ],
   "source": [
    "# HG1\n",
    "(-2*ll).var(axis=1).mean()/2"
   ]
  },
  {
   "cell_type": "code",
   "execution_count": 40,
   "metadata": {},
   "outputs": [
    {
     "data": {
      "text/plain": [
       "Array(5.17409128, dtype=float64)"
      ]
     },
     "execution_count": 40,
     "metadata": {},
     "output_type": "execute_result"
    }
   ],
   "source": [
    "# HG2\n",
    "(-2*ll).var(axis=1).mean()/2"
   ]
  },
  {
   "cell_type": "markdown",
   "metadata": {},
   "source": [
    "### Radiation"
   ]
  },
  {
   "cell_type": "code",
   "execution_count": 45,
   "metadata": {},
   "outputs": [],
   "source": [
    "with open('../results/hr_fully_partial_results.pkl', 'rb') as f:\n",
    "    hr_fully_partial_results = pickle.load(f)\n",
    "\n",
    "df_train_filtered = df_train.query(\"path_ind == 0 & M_ij_mean != 0\")\n",
    "X_train = df_train_filtered.set_index('State_pair')[['P_i','P_j','SP_ij']]\n",
    "X_train['P_i + SP_ij'] = X_train.P_i + X_train.SP_ij\n",
    "X_train['P_i + P_j + SP_ij'] = X_train.P_i + X_train.P_j + X_train.SP_ij\n",
    "pair_le = LabelEncoder().fit(X_train.index)\n",
    "pair_code = pair_le.transform(X_train.index)\n",
    "X_train.drop('SP_ij', axis=1, inplace=True)\n",
    "\n",
    "X_train = np.log(X_train.astype('float').values)\n",
    "y_train = np.log(df_train_filtered.M_ij_mean.astype('float').values)\n",
    "\n",
    "Β_param = np.linalg.inv(X_train.T @ X_train) @ X_train.T @ y_train\n",
    "α_param = y_train.mean() - Β_param @ X_train.mean(axis=0)\n",
    "ε = y_train - α_param - Β_param @ X_train.T\n",
    "σ_param = np.sqrt(ε @ ε / ( X_train.shape[0] - X_train.shape[1] - 1 ))\n",
    "cov_Β = σ_param * np.linalg.inv(sm.add_constant(X_train).T @ sm.add_constant(X_train))\n",
    "hyperparameters = {'Β_param': np.concatenate([[α_param],Β_param]),\n",
    "                'σ_param': σ_param,\n",
    "                'cov_Β': cov_Β}\n",
    "\n",
    "guide = AutoDiagonalNormal(hr_fully_partial, init_loc_fn=numpyro.infer.init_to_feasible)\n",
    "svi = SVI(hr_fully_partial, guide, Adam(learning_rate), Trace_ELBO())\n",
    "svi_result = svi.run(prng_seed, vi_iters, pair_code, X_train, hyperparameters, y_train, progress_bar=False)\n",
    "neutra = NeuTraReparam(guide, svi_result.params)\n",
    "model = neutra.reparam(hr_fully_partial)\n",
    "\n",
    "predictive = Predictive(model, hr_fully_partial_results['posteriors_model'][0])\n",
    "ll = predictive(prng_seed, pool_code=pair_code, logX_ijt=X_train, hyperparameters=hyperparameters, logM_ijt=y_train)['logM_ijt']\n",
    "\n",
    "# ll = log_likelihood(model, hg_intercept_partial_results['posteriors_model'][0], pool_code=pair_code, logX_ijt=X_train, hyperparameters=hyperparameters, logM_ijt=y_train, batch_ndims=1)"
   ]
  },
  {
   "cell_type": "code",
   "execution_count": 43,
   "metadata": {},
   "outputs": [
    {
     "data": {
      "text/plain": [
       "Array(5.17409128, dtype=float64)"
      ]
     },
     "execution_count": 43,
     "metadata": {},
     "output_type": "execute_result"
    }
   ],
   "source": [
    "# HR1\n",
    "(-2*ll).var(axis=1).mean()/2"
   ]
  },
  {
   "cell_type": "code",
   "execution_count": 51,
   "metadata": {},
   "outputs": [
    {
     "data": {
      "text/plain": [
       "Array(5.17409128, dtype=float64)"
      ]
     },
     "execution_count": 51,
     "metadata": {},
     "output_type": "execute_result"
    }
   ],
   "source": [
    "# HR2\n",
    "(-2*ll).var(axis=1).mean()/2"
   ]
  },
  {
   "cell_type": "code",
   "execution_count": 61,
   "metadata": {},
   "outputs": [
    {
     "data": {
      "text/plain": [
       "['α',\n",
       " 'α_decentered',\n",
       " 'β_1',\n",
       " 'β_1_decentered',\n",
       " 'β_2',\n",
       " 'β_2_decentered',\n",
       " 'β_3',\n",
       " 'β_3_decentered',\n",
       " 'β_4',\n",
       " 'β_4_decentered',\n",
       " 'μ_α',\n",
       " 'μ_β_1',\n",
       " 'μ_β_2',\n",
       " 'μ_β_3',\n",
       " 'μ_β_4',\n",
       " 'μ_σ',\n",
       " 'σ',\n",
       " 'σ_α',\n",
       " 'σ_β_1',\n",
       " 'σ_β_2',\n",
       " 'σ_β_3',\n",
       " 'σ_β_4']"
      ]
     },
     "execution_count": 61,
     "metadata": {},
     "output_type": "execute_result"
    }
   ],
   "source": [
    "list(hr_fully_partial_results['posteriors_model'][0].keys())"
   ]
  },
  {
   "cell_type": "code",
   "execution_count": 63,
   "metadata": {},
   "outputs": [
    {
     "ename": "KeyError",
     "evalue": "'σ_α'",
     "output_type": "error",
     "traceback": [
      "\u001b[0;31m---------------------------------------------------------------------------\u001b[0m",
      "\u001b[0;31mKeyError\u001b[0m                                  Traceback (most recent call last)",
      "\u001b[1;32m/Users/ajcutuli/Desktop/MURI_Migration/MURI-migration/aric_notebooks/hierarchical_models.ipynb Cell 40\u001b[0m line \u001b[0;36m<cell line: 4>\u001b[0;34m()\u001b[0m\n\u001b[1;32m      <a href='vscode-notebook-cell:/Users/ajcutuli/Desktop/MURI_Migration/MURI-migration/aric_notebooks/hierarchical_models.ipynb#Y141sZmlsZQ%3D%3D?line=0'>1</a>\u001b[0m \u001b[39mfrom\u001b[39;00m \u001b[39mnumpyro\u001b[39;00m \u001b[39mimport\u001b[39;00m handlers\n\u001b[1;32m      <a href='vscode-notebook-cell:/Users/ajcutuli/Desktop/MURI_Migration/MURI-migration/aric_notebooks/hierarchical_models.ipynb#Y141sZmlsZQ%3D%3D?line=2'>3</a>\u001b[0m model \u001b[39m=\u001b[39m handlers\u001b[39m.\u001b[39msubstitute(handlers\u001b[39m.\u001b[39mseed(model, prng_seed), hr_fully_partial_results[\u001b[39m'\u001b[39m\u001b[39mposteriors_model\u001b[39m\u001b[39m'\u001b[39m][\u001b[39m0\u001b[39m])\n\u001b[0;32m----> <a href='vscode-notebook-cell:/Users/ajcutuli/Desktop/MURI_Migration/MURI-migration/aric_notebooks/hierarchical_models.ipynb#Y141sZmlsZQ%3D%3D?line=3'>4</a>\u001b[0m model_trace \u001b[39m=\u001b[39m handlers\u001b[39m.\u001b[39;49mtrace(model)\u001b[39m.\u001b[39;49mget_trace(pool_code\u001b[39m=\u001b[39;49mpair_code, logX_ijt\u001b[39m=\u001b[39;49mX_train, hyperparameters\u001b[39m=\u001b[39;49mhyperparameters, logM_ijt\u001b[39m=\u001b[39;49my_train)\n\u001b[1;32m      <a href='vscode-notebook-cell:/Users/ajcutuli/Desktop/MURI_Migration/MURI-migration/aric_notebooks/hierarchical_models.ipynb#Y141sZmlsZQ%3D%3D?line=4'>5</a>\u001b[0m obs_node \u001b[39m=\u001b[39m model_trace[\u001b[39m'\u001b[39m\u001b[39mobs\u001b[39m\u001b[39m'\u001b[39m]\n\u001b[1;32m      <a href='vscode-notebook-cell:/Users/ajcutuli/Desktop/MURI_Migration/MURI-migration/aric_notebooks/hierarchical_models.ipynb#Y141sZmlsZQ%3D%3D?line=5'>6</a>\u001b[0m \u001b[39mprint\u001b[39m(obs_node[\u001b[39m'\u001b[39m\u001b[39mfn\u001b[39m\u001b[39m'\u001b[39m]\u001b[39m.\u001b[39mlog_prob(obs_node[\u001b[39m'\u001b[39m\u001b[39mvalue\u001b[39m\u001b[39m'\u001b[39m]))\n",
      "File \u001b[0;32m/opt/homebrew/Caskroom/miniforge/base/envs/tensorflow/lib/python3.9/site-packages/numpyro/handlers.py:171\u001b[0m, in \u001b[0;36mtrace.get_trace\u001b[0;34m(self, *args, **kwargs)\u001b[0m\n\u001b[1;32m    163\u001b[0m \u001b[39mdef\u001b[39;00m \u001b[39mget_trace\u001b[39m(\u001b[39mself\u001b[39m, \u001b[39m*\u001b[39margs, \u001b[39m*\u001b[39m\u001b[39m*\u001b[39mkwargs):\n\u001b[1;32m    164\u001b[0m \u001b[39m    \u001b[39m\u001b[39m\"\"\"\u001b[39;00m\n\u001b[1;32m    165\u001b[0m \u001b[39m    Run the wrapped callable and return the recorded trace.\u001b[39;00m\n\u001b[1;32m    166\u001b[0m \n\u001b[0;32m   (...)\u001b[0m\n\u001b[1;32m    169\u001b[0m \u001b[39m    :return: `OrderedDict` containing the execution trace.\u001b[39;00m\n\u001b[1;32m    170\u001b[0m \u001b[39m    \"\"\"\u001b[39;00m\n\u001b[0;32m--> 171\u001b[0m     \u001b[39mself\u001b[39;49m(\u001b[39m*\u001b[39;49margs, \u001b[39m*\u001b[39;49m\u001b[39m*\u001b[39;49mkwargs)\n\u001b[1;32m    172\u001b[0m     \u001b[39mreturn\u001b[39;00m \u001b[39mself\u001b[39m\u001b[39m.\u001b[39mtrace\n",
      "File \u001b[0;32m/opt/homebrew/Caskroom/miniforge/base/envs/tensorflow/lib/python3.9/site-packages/numpyro/primitives.py:105\u001b[0m, in \u001b[0;36mMessenger.__call__\u001b[0;34m(self, *args, **kwargs)\u001b[0m\n\u001b[1;32m    103\u001b[0m     \u001b[39mreturn\u001b[39;00m \u001b[39mself\u001b[39m\n\u001b[1;32m    104\u001b[0m \u001b[39mwith\u001b[39;00m \u001b[39mself\u001b[39m:\n\u001b[0;32m--> 105\u001b[0m     \u001b[39mreturn\u001b[39;00m \u001b[39mself\u001b[39;49m\u001b[39m.\u001b[39;49mfn(\u001b[39m*\u001b[39;49margs, \u001b[39m*\u001b[39;49m\u001b[39m*\u001b[39;49mkwargs)\n",
      "File \u001b[0;32m/opt/homebrew/Caskroom/miniforge/base/envs/tensorflow/lib/python3.9/site-packages/numpyro/primitives.py:105\u001b[0m, in \u001b[0;36mMessenger.__call__\u001b[0;34m(self, *args, **kwargs)\u001b[0m\n\u001b[1;32m    103\u001b[0m     \u001b[39mreturn\u001b[39;00m \u001b[39mself\u001b[39m\n\u001b[1;32m    104\u001b[0m \u001b[39mwith\u001b[39;00m \u001b[39mself\u001b[39m:\n\u001b[0;32m--> 105\u001b[0m     \u001b[39mreturn\u001b[39;00m \u001b[39mself\u001b[39;49m\u001b[39m.\u001b[39;49mfn(\u001b[39m*\u001b[39;49margs, \u001b[39m*\u001b[39;49m\u001b[39m*\u001b[39;49mkwargs)\n",
      "    \u001b[0;31m[... skipping similar frames: Messenger.__call__ at line 105 (9 times)]\u001b[0m\n",
      "File \u001b[0;32m/opt/homebrew/Caskroom/miniforge/base/envs/tensorflow/lib/python3.9/site-packages/numpyro/primitives.py:105\u001b[0m, in \u001b[0;36mMessenger.__call__\u001b[0;34m(self, *args, **kwargs)\u001b[0m\n\u001b[1;32m    103\u001b[0m     \u001b[39mreturn\u001b[39;00m \u001b[39mself\u001b[39m\n\u001b[1;32m    104\u001b[0m \u001b[39mwith\u001b[39;00m \u001b[39mself\u001b[39m:\n\u001b[0;32m--> 105\u001b[0m     \u001b[39mreturn\u001b[39;00m \u001b[39mself\u001b[39;49m\u001b[39m.\u001b[39;49mfn(\u001b[39m*\u001b[39;49margs, \u001b[39m*\u001b[39;49m\u001b[39m*\u001b[39;49mkwargs)\n",
      "\u001b[1;32m/Users/ajcutuli/Desktop/MURI_Migration/MURI-migration/aric_notebooks/hierarchical_models.ipynb Cell 40\u001b[0m line \u001b[0;36mhr_fully_partial\u001b[0;34m(pool_code, logX_ijt, hyperparameters, logM_ijt)\u001b[0m\n\u001b[1;32m      <a href='vscode-notebook-cell:/Users/ajcutuli/Desktop/MURI_Migration/MURI-migration/aric_notebooks/hierarchical_models.ipynb#Y141sZmlsZQ%3D%3D?line=0'>1</a>\u001b[0m \u001b[39mdef\u001b[39;00m \u001b[39mhr_fully_partial\u001b[39m(pool_code, logX_ijt, hyperparameters, logM_ijt\u001b[39m=\u001b[39m\u001b[39mNone\u001b[39;00m):\n\u001b[0;32m----> <a href='vscode-notebook-cell:/Users/ajcutuli/Desktop/MURI_Migration/MURI-migration/aric_notebooks/hierarchical_models.ipynb#Y141sZmlsZQ%3D%3D?line=1'>2</a>\u001b[0m     σ_α \u001b[39m=\u001b[39m numpyro\u001b[39m.\u001b[39;49msample(\u001b[39m\"\u001b[39;49m\u001b[39mσ_α\u001b[39;49m\u001b[39m\"\u001b[39;49m, dist\u001b[39m.\u001b[39;49mHalfNormal(\u001b[39m10\u001b[39;49m))\n\u001b[1;32m      <a href='vscode-notebook-cell:/Users/ajcutuli/Desktop/MURI_Migration/MURI-migration/aric_notebooks/hierarchical_models.ipynb#Y141sZmlsZQ%3D%3D?line=2'>3</a>\u001b[0m     σ_β_1 \u001b[39m=\u001b[39m numpyro\u001b[39m.\u001b[39msample(\u001b[39m\"\u001b[39m\u001b[39mσ_β_1\u001b[39m\u001b[39m\"\u001b[39m, dist\u001b[39m.\u001b[39mHalfNormal(\u001b[39m10\u001b[39m))\n\u001b[1;32m      <a href='vscode-notebook-cell:/Users/ajcutuli/Desktop/MURI_Migration/MURI-migration/aric_notebooks/hierarchical_models.ipynb#Y141sZmlsZQ%3D%3D?line=3'>4</a>\u001b[0m     σ_β_2 \u001b[39m=\u001b[39m numpyro\u001b[39m.\u001b[39msample(\u001b[39m\"\u001b[39m\u001b[39mσ_β_2\u001b[39m\u001b[39m\"\u001b[39m, dist\u001b[39m.\u001b[39mHalfNormal(\u001b[39m10\u001b[39m))\n",
      "File \u001b[0;32m/opt/homebrew/Caskroom/miniforge/base/envs/tensorflow/lib/python3.9/site-packages/numpyro/primitives.py:222\u001b[0m, in \u001b[0;36msample\u001b[0;34m(name, fn, obs, rng_key, sample_shape, infer, obs_mask)\u001b[0m\n\u001b[1;32m    207\u001b[0m initial_msg \u001b[39m=\u001b[39m {\n\u001b[1;32m    208\u001b[0m     \u001b[39m\"\u001b[39m\u001b[39mtype\u001b[39m\u001b[39m\"\u001b[39m: \u001b[39m\"\u001b[39m\u001b[39msample\u001b[39m\u001b[39m\"\u001b[39m,\n\u001b[1;32m    209\u001b[0m     \u001b[39m\"\u001b[39m\u001b[39mname\u001b[39m\u001b[39m\"\u001b[39m: name,\n\u001b[0;32m   (...)\u001b[0m\n\u001b[1;32m    218\u001b[0m     \u001b[39m\"\u001b[39m\u001b[39minfer\u001b[39m\u001b[39m\"\u001b[39m: {} \u001b[39mif\u001b[39;00m infer \u001b[39mis\u001b[39;00m \u001b[39mNone\u001b[39;00m \u001b[39melse\u001b[39;00m infer,\n\u001b[1;32m    219\u001b[0m }\n\u001b[1;32m    221\u001b[0m \u001b[39m# ...and use apply_stack to send it to the Messengers\u001b[39;00m\n\u001b[0;32m--> 222\u001b[0m msg \u001b[39m=\u001b[39m apply_stack(initial_msg)\n\u001b[1;32m    223\u001b[0m \u001b[39mreturn\u001b[39;00m msg[\u001b[39m\"\u001b[39m\u001b[39mvalue\u001b[39m\u001b[39m\"\u001b[39m]\n",
      "File \u001b[0;32m/opt/homebrew/Caskroom/miniforge/base/envs/tensorflow/lib/python3.9/site-packages/numpyro/primitives.py:47\u001b[0m, in \u001b[0;36mapply_stack\u001b[0;34m(msg)\u001b[0m\n\u001b[1;32m     45\u001b[0m pointer \u001b[39m=\u001b[39m \u001b[39m0\u001b[39m\n\u001b[1;32m     46\u001b[0m \u001b[39mfor\u001b[39;00m pointer, handler \u001b[39min\u001b[39;00m \u001b[39menumerate\u001b[39m(\u001b[39mreversed\u001b[39m(_PYRO_STACK)):\n\u001b[0;32m---> 47\u001b[0m     handler\u001b[39m.\u001b[39;49mprocess_message(msg)\n\u001b[1;32m     48\u001b[0m     \u001b[39m# When a Messenger sets the \"stop\" field of a message,\u001b[39;00m\n\u001b[1;32m     49\u001b[0m     \u001b[39m# it prevents any Messengers above it on the stack from being applied.\u001b[39;00m\n\u001b[1;32m     50\u001b[0m     \u001b[39mif\u001b[39;00m msg\u001b[39m.\u001b[39mget(\u001b[39m\"\u001b[39m\u001b[39mstop\u001b[39m\u001b[39m\"\u001b[39m):\n",
      "File \u001b[0;32m/opt/homebrew/Caskroom/miniforge/base/envs/tensorflow/lib/python3.9/site-packages/numpyro/handlers.py:581\u001b[0m, in \u001b[0;36mreparam.process_message\u001b[0;34m(self, msg)\u001b[0m\n\u001b[1;32m    578\u001b[0m \u001b[39mif\u001b[39;00m reparam \u001b[39mis\u001b[39;00m \u001b[39mNone\u001b[39;00m:\n\u001b[1;32m    579\u001b[0m     \u001b[39mreturn\u001b[39;00m\n\u001b[0;32m--> 581\u001b[0m new_fn, value \u001b[39m=\u001b[39m reparam(msg[\u001b[39m\"\u001b[39;49m\u001b[39mname\u001b[39;49m\u001b[39m\"\u001b[39;49m], msg[\u001b[39m\"\u001b[39;49m\u001b[39mfn\u001b[39;49m\u001b[39m\"\u001b[39;49m], msg[\u001b[39m\"\u001b[39;49m\u001b[39mvalue\u001b[39;49m\u001b[39m\"\u001b[39;49m])\n\u001b[1;32m    583\u001b[0m \u001b[39mif\u001b[39;00m value \u001b[39mis\u001b[39;00m \u001b[39mnot\u001b[39;00m \u001b[39mNone\u001b[39;00m:\n\u001b[1;32m    584\u001b[0m     \u001b[39mif\u001b[39;00m new_fn \u001b[39mis\u001b[39;00m \u001b[39mNone\u001b[39;00m:\n",
      "File \u001b[0;32m/opt/homebrew/Caskroom/miniforge/base/envs/tensorflow/lib/python3.9/site-packages/numpyro/infer/reparam.py:297\u001b[0m, in \u001b[0;36mNeuTraReparam.__call__\u001b[0;34m(self, name, fn, obs)\u001b[0m\n\u001b[1;32m    294\u001b[0m     \u001b[39mself\u001b[39m\u001b[39m.\u001b[39m_x_unconstrained \u001b[39m=\u001b[39m \u001b[39mself\u001b[39m\u001b[39m.\u001b[39mguide\u001b[39m.\u001b[39m_unpack_latent(x_unconstrained)\n\u001b[1;32m    296\u001b[0m \u001b[39m# Extract a single site's value from the shared latent.\u001b[39;00m\n\u001b[0;32m--> 297\u001b[0m unconstrained_value \u001b[39m=\u001b[39m \u001b[39mself\u001b[39;49m\u001b[39m.\u001b[39;49m_x_unconstrained\u001b[39m.\u001b[39;49mpop(name)\n\u001b[1;32m    298\u001b[0m transform \u001b[39m=\u001b[39m biject_to(fn\u001b[39m.\u001b[39msupport)\n\u001b[1;32m    299\u001b[0m value \u001b[39m=\u001b[39m transform(unconstrained_value)\n",
      "\u001b[0;31mKeyError\u001b[0m: 'σ_α'"
     ]
    }
   ],
   "source": [
    "from numpyro import handlers\n",
    "\n",
    "model = handlers.substitute(handlers.seed(model, prng_seed), hr_fully_partial_results['posteriors_model'][0])\n",
    "model_trace = handlers.trace(model).get_trace(pool_code=pair_code, logX_ijt=X_train, hyperparameters=hyperparameters, logM_ijt=y_train)\n",
    "obs_node = model_trace['obs']\n",
    "print(obs_node['fn'].log_prob(obs_node['value']))"
   ]
  }
 ],
 "metadata": {
  "kernelspec": {
   "display_name": "Python 3.9 (tensorflow)",
   "language": "python",
   "name": "tensorflow"
  },
  "language_info": {
   "codemirror_mode": {
    "name": "ipython",
    "version": 3
   },
   "file_extension": ".py",
   "mimetype": "text/x-python",
   "name": "python",
   "nbconvert_exporter": "python",
   "pygments_lexer": "ipython3",
   "version": "3.9.13"
  },
  "orig_nbformat": 4
 },
 "nbformat": 4,
 "nbformat_minor": 2
}
